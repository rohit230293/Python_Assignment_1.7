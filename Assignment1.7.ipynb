'''
Q. Write a Python program to reverse a word after accepting the input from the user.
Sample Output:
Input word: AcadGild
Output: dilGdacA
'''
str = input("Input Word: ")
print("Output : %s" %(str[::-1]))
